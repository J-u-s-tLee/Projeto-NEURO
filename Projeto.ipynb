{
 "cells": [
  {
   "cell_type": "code",
   "execution_count": 7,
   "metadata": {},
   "outputs": [
    {
     "ename": "OSError",
     "evalue": "No available data format detected.",
     "output_type": "error",
     "traceback": [
      "\u001b[1;31m---------------------------------------------------------------------------\u001b[0m",
      "\u001b[1;31mOSError\u001b[0m                                   Traceback (most recent call last)",
      "Cell \u001b[1;32mIn[7], line 5\u001b[0m\n\u001b[0;32m      1\u001b[0m \u001b[38;5;28;01mfrom\u001b[39;00m \u001b[38;5;21;01mopen_ephys\u001b[39;00m\u001b[38;5;21;01m.\u001b[39;00m\u001b[38;5;21;01manalysis\u001b[39;00m \u001b[38;5;28;01mimport\u001b[39;00m Session\n\u001b[0;32m      3\u001b[0m directory \u001b[38;5;241m=\u001b[39m \u001b[38;5;124m'\u001b[39m\u001b[38;5;124mDataset/rec01/continuous/Acquisition_Board-110.Rhythm Data/continuous.dat\u001b[39m\u001b[38;5;124m'\u001b[39m\n\u001b[1;32m----> 5\u001b[0m session \u001b[38;5;241m=\u001b[39m \u001b[43mSession\u001b[49m\u001b[43m(\u001b[49m\u001b[43mdirectory\u001b[49m\u001b[43m)\u001b[49m\n",
      "File \u001b[1;32mc:\\Users\\lm803\\AppData\\Local\\Programs\\Python\\Python312\\Lib\\site-packages\\open_ephys\\analysis\\session.py:65\u001b[0m, in \u001b[0;36mSession.__init__\u001b[1;34m(self, directory, mmap_timestamps)\u001b[0m\n\u001b[0;32m     62\u001b[0m \u001b[38;5;28mself\u001b[39m\u001b[38;5;241m.\u001b[39mdirectory \u001b[38;5;241m=\u001b[39m directory;\n\u001b[0;32m     63\u001b[0m \u001b[38;5;28mself\u001b[39m\u001b[38;5;241m.\u001b[39mmmap_timestamps \u001b[38;5;241m=\u001b[39m mmap_timestamps;\n\u001b[1;32m---> 65\u001b[0m \u001b[38;5;28;43mself\u001b[39;49m\u001b[38;5;241;43m.\u001b[39;49m\u001b[43m_detect_record_nodes\u001b[49m\u001b[43m(\u001b[49m\u001b[43m)\u001b[49m\n",
      "File \u001b[1;32mc:\\Users\\lm803\\AppData\\Local\\Programs\\Python\\Python312\\Lib\\site-packages\\open_ephys\\analysis\\session.py:79\u001b[0m, in \u001b[0;36mSession._detect_record_nodes\u001b[1;34m(self)\u001b[0m\n\u001b[0;32m     75\u001b[0m recordnodepaths\u001b[38;5;241m.\u001b[39msort(key\u001b[38;5;241m=\u001b[39malphanum_key)\n\u001b[0;32m     77\u001b[0m \u001b[38;5;28;01mif\u001b[39;00m \u001b[38;5;28mlen\u001b[39m(recordnodepaths) \u001b[38;5;241m==\u001b[39m \u001b[38;5;241m0\u001b[39m:\n\u001b[1;32m---> 79\u001b[0m     \u001b[38;5;28mself\u001b[39m\u001b[38;5;241m.\u001b[39mrecordings \u001b[38;5;241m=\u001b[39m \u001b[43mRecordNode\u001b[49m\u001b[43m(\u001b[49m\u001b[38;5;28;43mself\u001b[39;49m\u001b[38;5;241;43m.\u001b[39;49m\u001b[43mdirectory\u001b[49m\u001b[43m,\u001b[49m\u001b[43m \u001b[49m\u001b[38;5;28;43mself\u001b[39;49m\u001b[38;5;241;43m.\u001b[39;49m\u001b[43mmmap_timestamps\u001b[49m\u001b[43m)\u001b[49m\u001b[38;5;241m.\u001b[39mrecordings\n\u001b[0;32m     81\u001b[0m \u001b[38;5;28;01melse\u001b[39;00m:\n\u001b[0;32m     83\u001b[0m     \u001b[38;5;28mself\u001b[39m\u001b[38;5;241m.\u001b[39mrecordnodes \u001b[38;5;241m=\u001b[39m [RecordNode(path, \u001b[38;5;28mself\u001b[39m\u001b[38;5;241m.\u001b[39mmmap_timestamps) \u001b[38;5;28;01mfor\u001b[39;00m path \u001b[38;5;129;01min\u001b[39;00m recordnodepaths]\n",
      "File \u001b[1;32mc:\\Users\\lm803\\AppData\\Local\\Programs\\Python\\Python312\\Lib\\site-packages\\open_ephys\\analysis\\recordnode.py:62\u001b[0m, in \u001b[0;36mRecordNode.__init__\u001b[1;34m(self, directory, mmap_timestamps)\u001b[0m\n\u001b[0;32m     47\u001b[0m \u001b[38;5;250m\u001b[39m\u001b[38;5;124;03m\"\"\" Construct a RecordNode object, which provides access to\u001b[39;00m\n\u001b[0;32m     48\u001b[0m \u001b[38;5;124;03mdata from one Open Ephys Record Node\u001b[39;00m\n\u001b[0;32m     49\u001b[0m \n\u001b[1;32m   (...)\u001b[0m\n\u001b[0;32m     57\u001b[0m \u001b[38;5;124;03m    timestamps files in the session directory.\u001b[39;00m\n\u001b[0;32m     58\u001b[0m \u001b[38;5;124;03m\"\"\"\u001b[39;00m\n\u001b[0;32m     60\u001b[0m \u001b[38;5;28mself\u001b[39m\u001b[38;5;241m.\u001b[39mdirectory \u001b[38;5;241m=\u001b[39m directory\n\u001b[1;32m---> 62\u001b[0m \u001b[38;5;28;43mself\u001b[39;49m\u001b[38;5;241;43m.\u001b[39;49m\u001b[43m_detect_format\u001b[49m\u001b[43m(\u001b[49m\u001b[43m)\u001b[49m\n\u001b[0;32m     64\u001b[0m \u001b[38;5;28mself\u001b[39m\u001b[38;5;241m.\u001b[39m_detect_recordings(mmap_timestamps)\n",
      "File \u001b[1;32mc:\\Users\\lm803\\AppData\\Local\\Programs\\Python\\Python312\\Lib\\site-packages\\open_ephys\\analysis\\recordnode.py:81\u001b[0m, in \u001b[0;36mRecordNode._detect_format\u001b[1;34m(self)\u001b[0m\n\u001b[0;32m     78\u001b[0m         \u001b[38;5;28mself\u001b[39m\u001b[38;5;241m.\u001b[39mformat \u001b[38;5;241m=\u001b[39m format_key\n\u001b[0;32m     79\u001b[0m         \u001b[38;5;28;01mreturn\u001b[39;00m\n\u001b[1;32m---> 81\u001b[0m \u001b[38;5;28;01mraise\u001b[39;00m(\u001b[38;5;167;01mIOError\u001b[39;00m(\u001b[38;5;124m'\u001b[39m\u001b[38;5;124mNo available data format detected.\u001b[39m\u001b[38;5;124m'\u001b[39m))\n",
      "\u001b[1;31mOSError\u001b[0m: No available data format detected."
     ]
    }
   ],
   "source": [
    "from open_ephys.analysis import Session\n",
    "\n",
    "directory = 'Dataset/rec01/continuous/Acquisition_Board-110.Rhythm Data/continuous.dat'\n",
    "\n",
    "session = Session(directory)\n"
   ]
  }
 ],
 "metadata": {
  "kernelspec": {
   "display_name": "Python 3",
   "language": "python",
   "name": "python3"
  },
  "language_info": {
   "codemirror_mode": {
    "name": "ipython",
    "version": 3
   },
   "file_extension": ".py",
   "mimetype": "text/x-python",
   "name": "python",
   "nbconvert_exporter": "python",
   "pygments_lexer": "ipython3",
   "version": "3.12.8"
  }
 },
 "nbformat": 4,
 "nbformat_minor": 2
}
